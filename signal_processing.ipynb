{
 "cells": [
  {
   "cell_type": "markdown",
   "id": "a67c7d9f",
   "metadata": {},
   "source": [
    "# Understanding signal processing basics using Python\n",
    "Below is some code used to gain some intuition on two basic tools of signal processing: the Discrete Fourier Transform and the Discrete Wavelet Transform.\n",
    "\n",
    "This was used for the course ECS766P - Data Mining at Queen Mary University of London."
   ]
  },
  {
   "cell_type": "code",
   "execution_count": 1,
   "id": "9b8537bb",
   "metadata": {},
   "outputs": [],
   "source": [
    "%matplotlib inline\n",
    "import matplotlib.pyplot as plt\n",
    "import numpy as np"
   ]
  },
  {
   "cell_type": "markdown",
   "id": "5f943d2e",
   "metadata": {},
   "source": [
    "For the DFT we will use `scipy`, and for the DWT we can use a package called `pywt`.\n",
    "\n",
    "https://docs.scipy.org/doc/scipy/tutorial/fft.html\n",
    "\n",
    "https://pywavelets.readthedocs.io/en/latest/"
   ]
  },
  {
   "cell_type": "code",
   "execution_count": 2,
   "id": "bd1b7ab4",
   "metadata": {},
   "outputs": [],
   "source": [
    "from scipy.fft import fft, ifft\n",
    "import pywt"
   ]
  },
  {
   "cell_type": "markdown",
   "id": "614df130",
   "metadata": {},
   "source": [
    "# Understanding the Discrete Fourier Transform\n",
    "In order to improve our understanding of the DFT, we are going to see an application in a toy example."
   ]
  },
  {
   "cell_type": "markdown",
   "id": "393b0045",
   "metadata": {},
   "source": [
    "We start by creating a cosine wave."
   ]
  },
  {
   "cell_type": "code",
   "execution_count": 3,
   "id": "2e232fea",
   "metadata": {},
   "outputs": [
    {
     "data": {
      "text/plain": [
       "[<matplotlib.lines.Line2D at 0x7f07f3ad6c40>]"
      ]
     },
     "execution_count": 3,
     "metadata": {},
     "output_type": "execute_result"
    },
    {
     "data": {
      "image/png": "[encoded data removed]",
      "text/plain": [
       "<Figure size 432x288 with 1 Axes>"
      ]
     },
     "metadata": {
      "needs_background": "light"
     },
     "output_type": "display_data"
    }
   ],
   "source": [
    "N=125\n",
    "k=2\n",
    "x = np.array([np.cos(2*np.pi*k*i/N) for i in range(N)])\n",
    "plt.plot(x)"
   ]
  },
  {
   "cell_type": "markdown",
   "id": "8abb3fbd",
   "metadata": {},
   "source": [
    "Recall the expression for the DFT. Notice how the above wave exactly matches the real part of the complex factors in the sum."
   ]
  },
  {
   "cell_type": "markdown",
   "id": "31e01851",
   "metadata": {},
   "source": [
    "\n",
    "\\begin{aligned}X_{k}=\\sum _{n=0}^{N-1}x_{n}\\cdot \\left[\\cos \\left({\\frac {2\\pi }{N}}kn\\right)-i\\cdot \\sin \\left({\\frac {2\\pi }{N}}kn\\right)\\right].\\end{aligned}"
   ]
  },
  {
   "cell_type": "markdown",
   "id": "f3eb40f5",
   "metadata": {},
   "source": [
    "The signal was created with $k=2$. That means that the magnitude of the real part of $X_2$ should be large. Try to understand why the magnitude will become smaller for $X_i, i\\neq k$."
   ]
  },
  {
   "cell_type": "markdown",
   "id": "7ff62395",
   "metadata": {},
   "source": [
    "If we compute the DFT of the signal we will see that the magnitude is indeed largest at the expected component."
   ]
  },
  {
   "cell_type": "code",
   "execution_count": 7,
   "id": "d0d9da3f",
   "metadata": {},
   "outputs": [
    {
     "data": {
      "text/plain": [
       "array([ 2, 43, 44, 39, 38, 41, 21, 45, 22, 25, 26, 42, 46,  1, 40, 48, 50,\n",
       "       33, 34, 23, 53, 37, 20,  0, 10,  8, 29, 32, 58, 27, 13, 51, 30, 35,\n",
       "       28, 57,  9, 54, 36, 49, 17,  3, 55, 24, 61, 60, 15,  5, 52, 31,  7,\n",
       "       12, 14, 56, 11, 47,  4,  6, 18, 59, 19, 16])"
      ]
     },
     "execution_count": 7,
     "metadata": {},
     "output_type": "execute_result"
    }
   ],
   "source": [
    "xf=fft(x)\n",
    "np.argsort(abs(xf[:int(N/2)]))[::-1]"
   ]
  },
  {
   "cell_type": "markdown",
   "id": "93350c65",
   "metadata": {},
   "source": [
    "Notice that we are only considering half of the output. That is because the DFT is symmetric, so for the purpose of the above analysis we will obtain redundant information if we inspect all coefficients.\n",
    "\n",
    "Try to relate the output of the cell below to this symmetry."
   ]
  },
  {
   "cell_type": "code",
   "execution_count": 8,
   "id": "42de85c5",
   "metadata": {},
   "outputs": [
    {
     "data": {
      "text/plain": [
       "array([123,   2,  82,  43,  44,  81,  39,  86,  38,  87,  41,  84,  21,\n",
       "       104,  45,  80, 103,  22,  25, 100,  26,  99,  42,  83,  46,  79,\n",
       "       124,   1,  40,  85,  77,  48,  75,  50,  92,  33,  91,  34, 102,\n",
       "        23,  72,  53,  37,  88, 105,  20,   0,  10, 115, 117,   8,  96,\n",
       "        29,  93,  32,  58,  67,  27,  98, 112,  13,  74,  51,  95,  30,\n",
       "        35,  90,  97,  28,  68,  57, 116,   9,  62,  63,  71,  54,  89,\n",
       "        36,  76,  49,  17, 108, 122,   3,  70,  55,  24, 101,  61,  64,\n",
       "        60,  65, 110,  15,   5, 120,  73,  52,  31,  94,   7, 118,  12,\n",
       "       113,  14, 111,  69,  56,  11, 114,  47,  78,   4, 121, 119,   6,\n",
       "       107,  18,  59,  66, 106,  19, 109,  16])"
      ]
     },
     "execution_count": 8,
     "metadata": {},
     "output_type": "execute_result"
    }
   ],
   "source": [
    "np.argsort(abs(xf))[::-1]"
   ]
  },
  {
   "cell_type": "markdown",
   "id": "18f39ec3",
   "metadata": {},
   "source": [
    "Let us now add a high frequency perturbation to the signal."
   ]
  },
  {
   "cell_type": "code",
   "execution_count": 9,
   "id": "9f1da1d2",
   "metadata": {},
   "outputs": [
    {
     "data": {
      "text/plain": [
       "[<matplotlib.lines.Line2D at 0x7f07f38c7490>]"
      ]
     },
     "execution_count": 9,
     "metadata": {},
     "output_type": "execute_result"
    },
    {
     "data": {
      "image/png": "[encoded data removed]",
      "text/plain": [
       "<Figure size 432x288 with 1 Axes>"
      ]
     },
     "metadata": {
      "needs_background": "light"
     },
     "output_type": "display_data"
    }
   ],
   "source": [
    "k=25\n",
    "noise  = np.array([np.cos(k*2*np.pi*i/N) for i in range(N)])\n",
    "y = x+.1*noise\n",
    "plt.plot(y)"
   ]
  },
  {
   "cell_type": "markdown",
   "id": "7fd362f9",
   "metadata": {},
   "source": [
    "We will compute the DFT of the perturbed signal to detect the newly added component."
   ]
  },
  {
   "cell_type": "markdown",
   "id": "3908cae7",
   "metadata": {},
   "source": [
    "If we compare the new coefficients to those of the original transform, we will notice $100$ and $25$ near the top ones, which were not previously there (note we are no longer taking half of the output here, as we want to remove all perturbatory frequencies). $25$ is exactly the value of $k$ for the perturbation, and $100$ is just $N-25$."
   ]
  },
  {
   "cell_type": "code",
   "execution_count": 10,
   "id": "53af0d32",
   "metadata": {},
   "outputs": [
    {
     "data": {
      "text/plain": [
       "array([  2, 123, 100,  25,  44,  81,  86,  39,  82,  43,  41,  84,  80,\n",
       "        45,  42,  83,  26,  99, 102,  23,  63,  62,  87,  38,  85,  40,\n",
       "        48,  77,  76,  49, 103,  22,  21, 104,   6, 119,  51,  74,  46,\n",
       "        79,  33,  92,  53,  72,  64,  61,   0,  60,  65,  34,  91,  95,\n",
       "        30,  14, 111, 122,   3,  31,  94,  35,  90, 120,   5, 108,  17,\n",
       "        24, 101, 113,  12,  96,  29, 117,   8,  28,  97,   7, 118,  98,\n",
       "        27, 121,   4,  52,  73,  37,  88,  15, 110,  78,  47,  66,  59,\n",
       "       109,  16,  68,  57,  55,  70, 116,   9,  11, 114,  10, 115,  50,\n",
       "        75,  93,  32,  19, 106,  56,  69,   1, 124,  89,  36, 107,  18,\n",
       "        67,  58,  71,  54,  20, 105,  13, 112])"
      ]
     },
     "execution_count": 10,
     "metadata": {},
     "output_type": "execute_result"
    }
   ],
   "source": [
    "yf=fft(y)\n",
    "coeffs = np.argsort(abs(yf))[::-1]\n",
    "coeffs"
   ]
  },
  {
   "cell_type": "markdown",
   "id": "be3dd7af",
   "metadata": {},
   "source": [
    "If we remove said components and reconstruct the signal using the inverse transform, we obtain a clean wave."
   ]
  },
  {
   "cell_type": "code",
   "execution_count": 11,
   "id": "16cf8653",
   "metadata": {},
   "outputs": [
    {
     "data": {
      "text/plain": [
       "[<matplotlib.lines.Line2D at 0x7f07f2e5c250>]"
      ]
     },
     "execution_count": 11,
     "metadata": {},
     "output_type": "execute_result"
    },
    {
     "data": {
      "image/png": "[encoded data removed]",
      "text/plain": [
       "<Figure size 432x288 with 1 Axes>"
      ]
     },
     "metadata": {
      "needs_background": "light"
     },
     "output_type": "display_data"
    }
   ],
   "source": [
    "yf[25]=0\n",
    "yf[N-25]=0\n",
    "xf=ifft(yf)\n",
    "plt.plot(xf.real)"
   ]
  },
  {
   "cell_type": "markdown",
   "id": "073c1532",
   "metadata": {},
   "source": [
    "# Understanding the Discrete Wavelet Transform\n",
    "\n",
    "The following slides might help you understand the DWT. Be sure to check them out.\n",
    "\n",
    "http://ceadserv1.nku.edu/longa/classes/2008spring/mat225/projects2/HaarTransform.pdf"
   ]
  },
  {
   "cell_type": "markdown",
   "id": "70c93e3a",
   "metadata": {},
   "source": [
    "First, let us analyze how DWT algorithms work, step by step. We will use the very simple signal $x$, defined below."
   ]
  },
  {
   "cell_type": "code",
   "execution_count": 12,
   "id": "8bdd48bf",
   "metadata": {},
   "outputs": [],
   "source": [
    "x=np.array([1,2,3,4,5,6,7,8])"
   ]
  },
  {
   "cell_type": "markdown",
   "id": "a7384bf3",
   "metadata": {},
   "source": [
    "We will use a Haar wavelet, which is the easiest to understand."
   ]
  },
  {
   "cell_type": "code",
   "execution_count": 13,
   "id": "c3ce98e6",
   "metadata": {},
   "outputs": [
    {
     "data": {
      "text/plain": [
       "[array([ 2.12132034,  4.94974747,  7.77817459, 10.60660172]),\n",
       " array([-0.70710678, -0.70710678, -0.70710678, -0.70710678])]"
      ]
     },
     "execution_count": 13,
     "metadata": {},
     "output_type": "execute_result"
    }
   ],
   "source": [
    "wavelet='haar'\n",
    "pywt.wavedec(x, wavelet, level=1)"
   ]
  },
  {
   "cell_type": "markdown",
   "id": "499262b4",
   "metadata": {},
   "source": [
    "The algorithm works by applying two operations to the input vector recursively. Here we have set the level of the transform to 1, which means that we do not recurse. We will do that later.\n",
    "\n",
    "The function `wavedec` outputs a list of arrays: the first array is the vector of \"averages\"; the rest are the vectors of \"details\". \n",
    "\n",
    "In the cell below we see how these are computed. For the \"averages\", we group the elements of the vector by pairs, add them up and normalize. For the \"details\", we compute the difference. Note how this matches the output of `wavedec`.\n",
    "\n",
    "Observe as well the dimensions of the vectors. The length of the sequence has decreased by a factor of 2.\n",
    "\n",
    "Finally, note that it is possible to fully recover the original sequence using this information. Try to figure out how."
   ]
  },
  {
   "cell_type": "code",
   "execution_count": 14,
   "id": "2a138747",
   "metadata": {},
   "outputs": [
    {
     "data": {
      "text/plain": [
       "([2.1213203435596424,\n",
       "  4.949747468305833,\n",
       "  7.7781745930520225,\n",
       "  10.606601717798211],\n",
       " [-0.7071067811865475,\n",
       "  -0.7071067811865475,\n",
       "  -0.7071067811865475,\n",
       "  -0.7071067811865475])"
      ]
     },
     "execution_count": 14,
     "metadata": {},
     "output_type": "execute_result"
    }
   ],
   "source": [
    "y1 = []\n",
    "d1 = []\n",
    "for i in [0,2,4,6]:\n",
    "    avg = np.sum([x[i], x[i+1]])/np.sqrt(2)\n",
    "    diff = (x[i] - x[i+1])/np.sqrt(2)\n",
    "    y1.append(avg)\n",
    "    d1.append(diff)\n",
    "y1, d1"
   ]
  },
  {
   "cell_type": "markdown",
   "id": "8074b5c4",
   "metadata": {},
   "source": [
    "Let us now compute the transform to one additional level."
   ]
  },
  {
   "cell_type": "code",
   "execution_count": 15,
   "id": "e4942eb8",
   "metadata": {},
   "outputs": [
    {
     "data": {
      "text/plain": [
       "[array([ 5., 13.]),\n",
       " array([-2., -2.]),\n",
       " array([-0.70710678, -0.70710678, -0.70710678, -0.70710678])]"
      ]
     },
     "execution_count": 15,
     "metadata": {},
     "output_type": "execute_result"
    }
   ],
   "source": [
    "wavelet='haar'\n",
    "pywt.wavedec(x, wavelet, level=2)"
   ]
  },
  {
   "cell_type": "markdown",
   "id": "44f3bdf3",
   "metadata": {},
   "source": [
    "To obtain this, the algorithm just takes one recursive step on the vector of \"averages\" output by the step before. To demonstrate this, see the code below.\n",
    "\n",
    "We obtain a new vector of \"averages\" and a new vector of \"details\". We can actually discard the previous vector of \"averages\" (the one output by the transform at level 1), and we will still be able to perfectly reconstruct our signal. Try to figure out why."
   ]
  },
  {
   "cell_type": "code",
   "execution_count": 16,
   "id": "6b4d2cdd",
   "metadata": {},
   "outputs": [
    {
     "data": {
      "text/plain": [
       "([5.0, 12.999999999999998], [-2.0, -1.9999999999999991])"
      ]
     },
     "execution_count": 16,
     "metadata": {},
     "output_type": "execute_result"
    }
   ],
   "source": [
    "y2 = []\n",
    "d2 = []\n",
    "for i in [0,2]:\n",
    "    avg = np.sum([y1[i], y1[i+1]])/np.sqrt(2)\n",
    "    diff = (y1[i] - y1[i+1])/np.sqrt(2)\n",
    "    y2.append(avg)\n",
    "    d2.append(diff)\n",
    "y2, d2"
   ]
  },
  {
   "cell_type": "markdown",
   "id": "683bfe4f",
   "metadata": {},
   "source": [
    "We can encode these transformations using a matrix."
   ]
  },
  {
   "cell_type": "code",
   "execution_count": 17,
   "id": "bbd054b6",
   "metadata": {},
   "outputs": [
    {
     "data": {
      "text/plain": [
       "array([[ 0.70710678,  0.70710678],\n",
       "       [ 0.70710678, -0.70710678]])"
      ]
     },
     "execution_count": 17,
     "metadata": {},
     "output_type": "execute_result"
    }
   ],
   "source": [
    "H = 1/np.sqrt(2)*np.array([ [1,1], [1,-1]])\n",
    "H"
   ]
  },
  {
   "cell_type": "code",
   "execution_count": 18,
   "id": "34715eeb",
   "metadata": {},
   "outputs": [
    {
     "name": "stdout",
     "output_type": "stream",
     "text": [
      "[ 2.12132034 -0.70710678]\n",
      "[ 4.94974747 -0.70710678]\n",
      "[ 7.77817459 -0.70710678]\n",
      "[10.60660172 -0.70710678]\n"
     ]
    }
   ],
   "source": [
    "for i in [0,2,4,6]:\n",
    "    print(H.dot(x[i:i+2]))"
   ]
  },
  {
   "cell_type": "markdown",
   "id": "900baf45",
   "metadata": {},
   "source": [
    "It is also possible to express the 2-level transform using a single matrix."
   ]
  },
  {
   "cell_type": "code",
   "execution_count": 19,
   "id": "880a6f40",
   "metadata": {},
   "outputs": [
    {
     "data": {
      "text/plain": [
       "array([[ 0.5       ,  0.5       ,  0.5       ,  0.5       ],\n",
       "       [ 0.5       ,  0.5       , -0.5       , -0.5       ],\n",
       "       [ 0.70710678, -0.70710678,  0.        ,  0.        ],\n",
       "       [ 0.        ,  0.        ,  0.70710678, -0.70710678]])"
      ]
     },
     "execution_count": 19,
     "metadata": {},
     "output_type": "execute_result"
    }
   ],
   "source": [
    "s2 = np.sqrt(2)\n",
    "H = 1/2*np.array([ [1,1,1,1], [1,1,-1,-1], [s2,-s2,0,0], [0,0,s2,-s2]])\n",
    "H"
   ]
  },
  {
   "cell_type": "code",
   "execution_count": 20,
   "id": "8553daba",
   "metadata": {},
   "outputs": [
    {
     "name": "stdout",
     "output_type": "stream",
     "text": [
      "[ 5.         -2.         -0.70710678 -0.70710678]\n",
      "[13.         -2.         -0.70710678 -0.70710678]\n"
     ]
    }
   ],
   "source": [
    "for i in [0,4]:\n",
    "    print(H.dot(x[i:i+4]))"
   ]
  },
  {
   "cell_type": "markdown",
   "id": "da385bb0",
   "metadata": {},
   "source": [
    "### Using the DWT to clean a signal\n",
    "We are going to create a sine wave and perturb it with high-frequency noise. We will then try to remove the noise using the DWT."
   ]
  },
  {
   "cell_type": "code",
   "execution_count": 21,
   "id": "a8530051",
   "metadata": {},
   "outputs": [
    {
     "data": {
      "text/plain": [
       "[<matplotlib.lines.Line2D at 0x7f07f2e40d30>]"
      ]
     },
     "execution_count": 21,
     "metadata": {},
     "output_type": "execute_result"
    },
    {
     "data": {
      "image/png": "[encoded data removed]",
      "text/plain": [
       "<Figure size 432x288 with 1 Axes>"
      ]
     },
     "metadata": {
      "needs_background": "light"
     },
     "output_type": "display_data"
    }
   ],
   "source": [
    "x=np.sin(np.arange(0,2*np.pi,1e-2))\n",
    "plt.plot(x)"
   ]
  },
  {
   "cell_type": "code",
   "execution_count": 22,
   "id": "8af3de13",
   "metadata": {},
   "outputs": [
    {
     "data": {
      "text/plain": [
       "[<matplotlib.lines.Line2D at 0x7f07f2db07f0>]"
      ]
     },
     "execution_count": 22,
     "metadata": {},
     "output_type": "execute_result"
    },
    {
     "data": {
      "image/png": "[encoded data removed]",
      "text/plain": [
       "<Figure size 432x288 with 1 Axes>"
      ]
     },
     "metadata": {
      "needs_background": "light"
     },
     "output_type": "display_data"
    }
   ],
   "source": [
    "noisy_x = x + np.random.normal(size=len(x), loc=0, scale=0.05)\n",
    "plt.plot(noisy_x)"
   ]
  },
  {
   "cell_type": "markdown",
   "id": "e4e6c898",
   "metadata": {},
   "source": [
    "The DWT can only be computed meaningfully up to a certain level.\n",
    "\n",
    "Fortunatenly, we can ask the `pywt` to determine the maximum level for us."
   ]
  },
  {
   "cell_type": "code",
   "execution_count": 24,
   "id": "87968e7d",
   "metadata": {},
   "outputs": [
    {
     "data": {
      "text/plain": [
       "[array([  2.64154029, -10.90083202]),\n",
       " array([13.48182966,  0.        ]),\n",
       " array([-2.52423591,  6.89711987,  0.        ]),\n",
       " array([-2.81636218,  1.11482857,  3.55248816,  0.72507932, -2.93070371]),\n",
       " array([-1.11152423, -0.80311884, -0.0194247 ,  0.73011961,  1.24227445,\n",
       "         1.25349688,  0.6865964 , -0.13907672, -0.87343027, -1.14316054]),\n",
       " array([-0.42143085, -0.47163137, -0.34413757, -0.21134858, -0.19054168,\n",
       "         0.11668957,  0.20863856,  0.37211212,  0.42312929,  0.3874802 ,\n",
       "         0.4511152 ,  0.33515657,  0.26640536,  0.22398276,  0.07231522,\n",
       "        -0.14059605, -0.26117132, -0.39627808, -0.43986821, -0.28477635]),\n",
       " array([-0.1278207 , -0.28653992, -0.13347602, -0.09189613, -0.06521516,\n",
       "        -0.09688014,  0.01703723, -0.08505567, -0.11635062,  0.01830227,\n",
       "         0.11422183,  0.0114082 , -0.01585333,  0.00402144,  0.035527  ,\n",
       "         0.1005943 ,  0.14436824,  0.17242468,  0.10638528,  0.16216675,\n",
       "         0.19969603,  0.13878977,  0.15805559,  0.12110114,  0.19969157,\n",
       "         0.10856204,  0.10992531,  0.08628257, -0.00206571, -0.02050101,\n",
       "         0.02921346, -0.06756979, -0.15053935, -0.10456589, -0.07129138,\n",
       "        -0.14285536, -0.12004305, -0.11398666, -0.23975138,  0.        ]),\n",
       " array([-0.02411425, -0.07329279, -0.06527343, -0.03065485, -0.03424217,\n",
       "        -0.07372347,  0.00406819,  0.03569225,  0.0196951 , -0.12806152,\n",
       "         0.01026014,  0.03294772, -0.02712094, -0.07399934, -0.04890957,\n",
       "        -0.03889602, -0.00163994, -0.11534624, -0.06919911, -0.08515658,\n",
       "         0.03859168,  0.00398876,  0.05730717,  0.0135978 , -0.05134129,\n",
       "         0.01882747,  0.05382749,  0.01183957,  0.0389474 ,  0.03248874,\n",
       "         0.02907722,  0.10689593,  0.08334623,  0.08999689,  0.08300565,\n",
       "        -0.0230838 ,  0.0245317 ,  0.07218667,  0.06757927, -0.02649504,\n",
       "         0.02861956,  0.07029798,  0.02872353,  0.05738159,  0.02510934,\n",
       "         0.06311703, -0.06162249,  0.03666156,  0.08305247,  0.17492071,\n",
       "        -0.00454401, -0.02936534,  0.0363145 , -0.08954681,  0.03866528,\n",
       "         0.01401334,  0.01503579, -0.0539945 , -0.00305947, -0.03270473,\n",
       "        -0.08087285,  0.07903826, -0.07719148,  0.05900449, -0.05368926,\n",
       "        -0.01809426, -0.0155956 , -0.02875236, -0.04418809, -0.03634575,\n",
       "        -0.11024284, -0.09466963, -0.14881533,  0.00930386, -0.09368742,\n",
       "        -0.01595374, -0.10841583, -0.00465792,  0.08869211]),\n",
       " array([-0.08938379, -0.06773162,  0.00644883, -0.04696882, -0.04029925,\n",
       "        -0.06861221, -0.01246064,  0.03375741, -0.00721816, -0.00255226,\n",
       "        -0.03197284,  0.03633325,  0.0057151 , -0.0324596 , -0.02169218,\n",
       "         0.0380604 , -0.09452178, -0.06896918,  0.00570294, -0.01482765,\n",
       "        -0.01391309, -0.06491753,  0.07536146, -0.00110653, -0.02608995,\n",
       "        -0.02304332, -0.01915953, -0.03984954,  0.04573731, -0.03521199,\n",
       "        -0.03798569,  0.07909202, -0.11347799, -0.02124456,  0.02258651,\n",
       "        -0.06184767,  0.00117818,  0.13864433,  0.02282967, -0.00686093,\n",
       "        -0.00472947, -0.06220129, -0.09808299,  0.04482904,  0.03994765,\n",
       "         0.0091884 , -0.00254902, -0.04789269,  0.12082777,  0.0732315 ,\n",
       "         0.03366515, -0.05466003, -0.04550335, -0.03242486,  0.07822808,\n",
       "        -0.03207386,  0.06630351,  0.08024697,  0.00422054,  0.09554752,\n",
       "         0.0223224 , -0.01415644,  0.02962733,  0.0387113 ,  0.00093735,\n",
       "         0.10506126,  0.08910956,  0.03608992,  0.10462259,  0.02408871,\n",
       "         0.0817145 ,  0.01382258,  0.03585912,  0.04240038,  0.0278156 ,\n",
       "         0.07257451,  0.01978829, -0.07108222,  0.03878104, -0.00863139,\n",
       "         0.09358138,  0.01593973,  0.10334295, -0.00725981,  0.11291091,\n",
       "         0.01120625,  0.01779714, -0.01646626,  0.02626082, -0.00042273,\n",
       "         0.06066093,  0.00865573,  0.04705954, -0.05198238,  0.00040658,\n",
       "         0.11644815,  0.03743433,  0.02811669,  0.01182812,  0.05298573,\n",
       "         0.01244507,  0.02616064,  0.06791578,  0.0272906 , -0.00763847,\n",
       "         0.04263482, -0.00981773,  0.02377092,  0.01645692, -0.00215004,\n",
       "        -0.06749778, -0.04716227,  0.01857302,  0.09034652, -0.04909346,\n",
       "         0.04391755,  0.01099813,  0.03758812,  0.04097032,  0.01300634,\n",
       "        -0.01549601,  0.01304718,  0.02290496,  0.05192773, -0.13408661,\n",
       "        -0.00758153, -0.01700996, -0.01996213, -0.0084319 , -0.04634453,\n",
       "        -0.03263422, -0.02428386, -0.03618241,  0.01004564,  0.00367448,\n",
       "         0.03150531, -0.12345309,  0.05937545, -0.00518131,  0.03242134,\n",
       "        -0.1427133 , -0.09649255,  0.00496574,  0.07419988,  0.01084   ,\n",
       "        -0.04679851,  0.01538442, -0.0276283 , -0.02945623,  0.01650531,\n",
       "         0.02432405, -0.05766213, -0.05212263, -0.10523312, -0.10672026,\n",
       "         0.01082126,  0.01134143,  0.        ]),\n",
       " array([-0.02707333, -0.03537915, -0.06439496, -0.05227706,  0.03899751,\n",
       "         0.06427359, -0.03243518,  0.01626276, -0.03936924,  0.07627132,\n",
       "        -0.02520647, -0.05676015, -0.01526262, -0.00137239, -0.07862758,\n",
       "         0.0882791 ,  0.00463603, -0.01746797, -0.02934891,  0.10787101,\n",
       "        -0.04247988, -0.07206348,  0.05518058,  0.01542235,  0.01719345,\n",
       "        -0.0292496 ,  0.06824279, -0.02815339,  0.02422958, -0.03730791,\n",
       "         0.02969579, -0.02378506,  0.03022412,  0.00236056, -0.04498701,\n",
       "        -0.01199072, -0.11489956,  0.10359633, -0.14172964,  0.02467151,\n",
       "         0.0165876 ,  0.03950863,  0.06501981,  0.03370219, -0.02295028,\n",
       "         0.11018679, -0.02263397, -0.02432202,  0.06512222,  0.05255308,\n",
       "         0.05697356,  0.00662629, -0.01879426, -0.01349857,  0.06224934,\n",
       "        -0.05721854, -0.04496474,  0.0854272 ,  0.05381075,  0.02299907,\n",
       "         0.01478049, -0.0431258 ,  0.04334279,  0.01321429,  0.03895674,\n",
       "        -0.0504179 , -0.00474593,  0.05886392,  0.03757502,  0.00588859,\n",
       "        -0.07955779,  0.01091465,  0.04964446,  0.01496753, -0.02523402,\n",
       "         0.00494333, -0.14225447,  0.01957818, -0.03034523,  0.03109179,\n",
       "         0.05324575, -0.01220471, -0.0124448 ,  0.01155897, -0.06524269,\n",
       "         0.03346676,  0.04176809,  0.00846105,  0.03678424, -0.06601754,\n",
       "        -0.02604399,  0.005357  , -0.04289279, -0.00143753,  0.04322841,\n",
       "        -0.04277308,  0.07898739,  0.07150163, -0.02941927, -0.0557557 ,\n",
       "        -0.0188714 , -0.0047882 , -0.06432868,  0.00119201, -0.08930809,\n",
       "        -0.11012311,  0.01660456, -0.08699856, -0.00054219,  0.03112854,\n",
       "         0.00394868,  0.01260762,  0.09129989, -0.01019173, -0.01114313,\n",
       "        -0.05443476,  0.09515726,  0.0285499 ,  0.06847474, -0.00649713,\n",
       "         0.08642421,  0.0470235 ,  0.08557715,  0.06469185, -0.00296018,\n",
       "         0.09028464, -0.04957522,  0.01212698,  0.03955097, -0.12904376,\n",
       "        -0.01341849, -0.06138584, -0.00604689,  0.00071559,  0.06159859,\n",
       "        -0.0153253 ,  0.08393359, -0.01402802,  0.00241695, -0.00703442,\n",
       "         0.01208197,  0.01552505, -0.04178303, -0.00053611, -0.03689813,\n",
       "        -0.1083427 , -0.07589504, -0.04732303, -0.06396879,  0.0769512 ,\n",
       "         0.06495459,  0.03116144, -0.01838434, -0.1299116 , -0.00429396,\n",
       "         0.04005924,  0.03308675,  0.04547093,  0.06305222,  0.12618816,\n",
       "         0.09213844,  0.07138784, -0.01201129, -0.00466439, -0.02506412,\n",
       "         0.02597741,  0.02465111, -0.03780302, -0.04516309, -0.02705323,\n",
       "         0.05241421, -0.06416999,  0.01986774,  0.02808994,  0.07021763,\n",
       "         0.0054945 ,  0.06903864,  0.02348261, -0.03020743, -0.054972  ,\n",
       "         0.02096366,  0.00957203, -0.08477623,  0.02571521, -0.00388438,\n",
       "         0.0296444 , -0.0665461 , -0.08166054,  0.00516248, -0.08669667,\n",
       "         0.0719293 , -0.0296808 ,  0.00840515, -0.04081256,  0.00210505,\n",
       "        -0.08694805,  0.09029272,  0.05754633, -0.01262402,  0.02362201,\n",
       "         0.02494524,  0.00806724,  0.02484749,  0.06214824, -0.01640987,\n",
       "        -0.06053085,  0.02745292,  0.06139904,  0.07857282, -0.00369236,\n",
       "        -0.09105493, -0.03063852, -0.03420979, -0.02862351,  0.0180192 ,\n",
       "        -0.06497164, -0.00904587, -0.02258872,  0.01025651,  0.00588617,\n",
       "        -0.05245739, -0.00963374, -0.04593116,  0.02365469, -0.0361981 ,\n",
       "        -0.0267346 ,  0.0241623 ,  0.01472285,  0.00668224,  0.07092888,\n",
       "        -0.02469077, -0.06524968,  0.0108883 , -0.00411612,  0.03265781,\n",
       "         0.02609293, -0.0094252 , -0.05205241, -0.00120567, -0.07376377,\n",
       "        -0.04757273, -0.01062742,  0.06011035,  0.07539329,  0.02089149,\n",
       "        -0.06325422, -0.04786703, -0.07107013, -0.00411521, -0.02278265,\n",
       "        -0.01797917,  0.0130132 , -0.05445304, -0.0006189 , -0.02425971,\n",
       "         0.07306548,  0.0230167 , -0.09290047, -0.04805228, -0.00493042,\n",
       "        -0.08570461,  0.04592246,  0.03523207, -0.03233846,  0.00858909,\n",
       "        -0.0174881 ,  0.01047017,  0.03392938, -0.05490829, -0.05368444,\n",
       "         0.01681903, -0.12475895,  0.00571035, -0.09892259, -0.07500255,\n",
       "        -0.023206  , -0.00534868, -0.02243985,  0.07856803, -0.05902857,\n",
       "        -0.05346302, -0.00426268,  0.02646046,  0.01973271,  0.0511355 ,\n",
       "        -0.01352438, -0.03093086, -0.02825464, -0.08189017, -0.06805926,\n",
       "         0.0571906 , -0.06013264,  0.03409926,  0.00407007, -0.0279336 ,\n",
       "        -0.06518346,  0.06529463, -0.04147227, -0.04059854, -0.05607806,\n",
       "        -0.0747026 , -0.01172397, -0.05609347,  0.02630678, -0.08007061,\n",
       "         0.02366863, -0.02926623,  0.02122564,  0.02336811, -0.01618994,\n",
       "        -0.06837325, -0.05793124,  0.03766346,  0.01784713,  0.        ])]"
      ]
     },
     "execution_count": 24,
     "metadata": {},
     "output_type": "execute_result"
    }
   ],
   "source": [
    "wavelet='haar'\n",
    "ml=pywt.dwt_max_level(len(x), wavelet)\n",
    "coeffs = pywt.wavedec(noisy_x, wavelet, level=ml)\n",
    "coeffs"
   ]
  },
  {
   "cell_type": "markdown",
   "id": "785ef97d",
   "metadata": {},
   "source": [
    "The underlying signal we want to recover is a low-frequency sine wave. Thus, what we want to do is remove some of the high-frequency \"details\".\n",
    "\n",
    "Fortunately the DWT, as implemented by `pywt`, stores \"details\" of different frequencies in different arrays, so we can distinguish them and treat them separately.\n",
    "\n",
    "Let us try to remove only the highest frequency \"details\", which are stored in the last array of the output."
   ]
  },
  {
   "cell_type": "code",
   "execution_count": 28,
   "id": "3e6cf2c8",
   "metadata": {},
   "outputs": [
    {
     "data": {
      "text/plain": [
       "[<matplotlib.lines.Line2D at 0x7f07f2ca86d0>]"
      ]
     },
     "execution_count": 28,
     "metadata": {},
     "output_type": "execute_result"
    },
    {
     "data": {
      "image/png": "[encoded data removed]",
      "text/plain": [
       "<Figure size 432x288 with 1 Axes>"
      ]
     },
     "metadata": {
      "needs_background": "light"
     },
     "output_type": "display_data"
    }
   ],
   "source": [
    "coeffs_ = []\n",
    "for i in range(len(coeffs)):\n",
    "    coeffs_.append(np.copy(coeffs[i]))\n",
    "coeffs_[-1]*=0\n",
    "approx_x = pywt.waverec(coeffs_, wavelet)\n",
    "plt.plot(approx_x)"
   ]
  },
  {
   "cell_type": "markdown",
   "id": "7e8e9ad4",
   "metadata": {},
   "source": [
    "Not bad, but the signal still retains a bit of noise. Let us try to remove some more components."
   ]
  },
  {
   "cell_type": "code",
   "execution_count": 29,
   "id": "50833f33",
   "metadata": {},
   "outputs": [],
   "source": [
    "coeffs_[-2]*=0\n",
    "coeffs_[-3]*=0\n",
    "coeffs_[-4]*=0"
   ]
  },
  {
   "cell_type": "code",
   "execution_count": 30,
   "id": "8c98053a",
   "metadata": {},
   "outputs": [
    {
     "data": {
      "text/plain": [
       "[<matplotlib.lines.Line2D at 0x7f07f2c68ee0>]"
      ]
     },
     "execution_count": 30,
     "metadata": {},
     "output_type": "execute_result"
    },
    {
     "data": {
      "image/png": "[encoded data removed]",
      "text/plain": [
       "<Figure size 432x288 with 1 Axes>"
      ]
     },
     "metadata": {
      "needs_background": "light"
     },
     "output_type": "display_data"
    }
   ],
   "source": [
    "approx_x = pywt.waverec(coeffs_, wavelet)\n",
    "plt.plot(approx_x)"
   ]
  },
  {
   "cell_type": "markdown",
   "id": "9aa77850",
   "metadata": {},
   "source": [
    "The signal is now less noisy, but the reconstruction is a little bit coarse. We can try the same, but using a Daubechies2 wavelet, for better results."
   ]
  },
  {
   "cell_type": "code",
   "execution_count": 35,
   "id": "c6fb035b",
   "metadata": {},
   "outputs": [
    {
     "data": {
      "text/plain": [
       "[<matplotlib.lines.Line2D at 0x7f07f2a7a820>]"
      ]
     },
     "execution_count": 35,
     "metadata": {},
     "output_type": "execute_result"
    },
    {
     "data": {
      "image/png": "[encoded data removed]",
      "text/plain": [
       "<Figure size 432x288 with 1 Axes>"
      ]
     },
     "metadata": {
      "needs_background": "light"
     },
     "output_type": "display_data"
    }
   ],
   "source": [
    "wavelet='db2'\n",
    "ml=pywt.dwt_max_level(len(x), wavelet)\n",
    "coeffs = pywt.wavedec(noisy_x, wavelet, level=ml)\n",
    "coeffs_ = []\n",
    "for i in range(len(coeffs)):\n",
    "    coeffs_.append(np.copy(coeffs[i]))\n",
    "for i in range(1,5):\n",
    "    coeffs_[-i]*=0\n",
    "approx_x = pywt.waverec(coeffs_, wavelet)\n",
    "plt.plot(approx_x)"
   ]
  },
  {
   "cell_type": "code",
   "execution_count": null,
   "id": "8c96b939",
   "metadata": {},
   "outputs": [],
   "source": [
    "\n",
    "\n",
    "\n",
    "\n",
    "\n",
    "\n",
    "\n",
    "\n",
    "\n",
    "\n",
    "\n",
    "\n",
    "\n",
    "\n"
   ]
  }
 ],
 "metadata": {
  "kernelspec": {
   "display_name": "Python 3 (ipykernel)",
   "language": "python",
   "name": "python3"
  },
  "language_info": {
   "codemirror_mode": {
    "name": "ipython",
    "version": 3
   },
   "file_extension": ".py",
   "mimetype": "text/x-python",
   "name": "python",
   "nbconvert_exporter": "python",
   "pygments_lexer": "ipython3",
   "version": "3.9.12"
  }
 },
 "nbformat": 4,
 "nbformat_minor": 5
}
